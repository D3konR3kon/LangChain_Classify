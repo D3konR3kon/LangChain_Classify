{
 "cells": [
  {
   "cell_type": "code",
   "execution_count": null,
   "id": "0e8ad11c",
   "metadata": {},
   "outputs": [
    {
     "name": "stdout",
     "output_type": "stream",
     "text": [
      "Note: you may need to restart the kernel to use updated packages.\n"
     ]
    }
   ],
   "source": [
    "%pip install --upgrade --quiet langchain-core"
   ]
  },
  {
   "cell_type": "code",
   "execution_count": null,
   "id": "4290a986",
   "metadata": {},
   "outputs": [
    {
     "name": "stdout",
     "output_type": "stream",
     "text": [
      "Note: you may need to restart the kernel to use updated packages.\n"
     ]
    },
    {
     "name": "stderr",
     "output_type": "stream",
     "text": [
      "ERROR: pip's dependency resolver does not currently take into account all the packages that are installed. This behaviour is the source of the following dependency conflicts.\n",
      "streamlit 1.37.1 requires protobuf<6,>=3.20, but you have protobuf 6.31.1 which is incompatible.\n"
     ]
    }
   ],
   "source": [
    "%pip install -qU \"langchain[google-genai]\""
   ]
  },
  {
   "cell_type": "code",
   "execution_count": 2,
   "id": "a2c24205",
   "metadata": {},
   "outputs": [],
   "source": [
    "\n",
    "# from langchain_openai import ChatOpenAI\n",
    "from pydantic import BaseModel, Field\n",
    "from langchain_google_genai import ChatGoogleGenerativeAI\n",
    "from langchain_core.prompts import ChatPromptTemplate\n",
    "from langchain.chat_models import init_chat_model\n",
    "from langchain.prompts import PromptTemplate\n",
    "from langchain.chains import LLMChain\n",
    "\n",
    "import getpass\n",
    "import os\n",
    "\n",
    "# if not os.environ.get(\"GEMINI_API_KEY\"):\n",
    "#   os.environ[\"GEMINI_API_KEY\"] = getpass.getpass(\"Enter API key for Google Gemini: \")\n",
    "\n",
    "google_api_key = os.getenv(\"GEMINI_API_KEY\")\n",
    "if not google_api_key:\n",
    "    raise ValueError(\"GOOGLE_API_KEY not found in environment variables. Please set it in a .env file.\")\n",
    "# --- END CHANGE ---\n",
    "\n",
    "llm = ChatGoogleGenerativeAI(model=\"gemini-2.0-flash\", google_api_key=google_api_key, temperature=0.0)\n",
    "\n",
    "# llm = init_chat_model(\"gemini-2.0-flash\", model_provider=\"google_genai\")"
   ]
  },
  {
   "cell_type": "code",
   "execution_count": 3,
   "id": "2df22325",
   "metadata": {},
   "outputs": [],
   "source": [
    "\n",
    "\n",
    "tagging_prompt = ChatPromptTemplate.from_template(\n",
    "    \"\"\"\n",
    "Extract the desired information from the following passage.\n",
    "\n",
    "Only extract the properties mentioned in the 'Classification' function.\n",
    "\n",
    "Passage:\n",
    "{input}\n",
    "\"\"\"\n",
    ")\n",
    "\n",
    "\n",
    "class Classification(BaseModel):\n",
    "    sentiment: str = Field(description=\"The sentiment of the text\")\n",
    "    aggressiveness: int = Field(\n",
    "        description=\"How aggressive the text is on a scale from 1 to 10\"\n",
    "    )\n",
    "    language: str = Field(description=\"The language the text is written in\")\n",
    "\n",
    "\n",
    "# Structured LLM\n",
    "structured_llm = llm.with_structured_output(Classification)"
   ]
  },
  {
   "cell_type": "code",
   "execution_count": 4,
   "id": "bc5bc592",
   "metadata": {},
   "outputs": [
    {
     "data": {
      "text/plain": [
       "Classification(sentiment='Positive', aggressiveness=1, language='Spanish')"
      ]
     },
     "execution_count": 4,
     "metadata": {},
     "output_type": "execute_result"
    }
   ],
   "source": [
    "inp = \"Estoy increiblemente contento de haberte conocido! Creo que seremos muy buenos amigos!\"\n",
    "prompt = tagging_prompt.invoke({\"input\": inp})\n",
    "response = structured_llm.invoke(prompt)\n",
    "\n",
    "response"
   ]
  },
  {
   "cell_type": "markdown",
   "id": "87a28fc6",
   "metadata": {},
   "source": [
    "### Spam detection   "
   ]
  },
  {
   "cell_type": "code",
   "execution_count": null,
   "id": "a86517b6",
   "metadata": {},
   "outputs": [
    {
     "name": "stderr",
     "output_type": "stream",
     "text": [
      "C:\\Users\\Ai_Explore\\AppData\\Local\\Temp\\ipykernel_5264\\550997978.py:19: LangChainDeprecationWarning: The class `LLMChain` was deprecated in LangChain 0.1.17 and will be removed in 1.0. Use :meth:`~RunnableSequence, e.g., `prompt | llm`` instead.\n",
      "  spam_detection_chain = LLMChain(llm=llm, prompt=prompt_template)\n",
      "C:\\Users\\Ai_Explore\\AppData\\Local\\Temp\\ipykernel_5264\\550997978.py:27: LangChainDeprecationWarning: The method `Chain.run` was deprecated in langchain 0.1.0 and will be removed in 1.0. Use :meth:`~invoke` instead.\n",
      "  prediction_1 = spam_detection_chain.run(tweet_1)\n"
     ]
    },
    {
     "name": "stdout",
     "output_type": "stream",
     "text": [
      "--- Running Spam Detection Examples ---\n",
      "\n",
      "Tweet: \"💰 Earn $5000 in 2 days! Click this link now: bit.ly/freespins2025 #makemoney #crypto\"\n",
      "Prediction: SPAM\n",
      "\n",
      "Tweet: \"Just finished my morning coffee and starting to code! What are you working on today? #coding #developer\"\n",
      "Prediction: NOT_SPAM\n",
      "\n",
      "Tweet: \"Congratulations! You've won a free iPhone! DM me your address to claim. Limited time offer! #giveaway\"\n",
      "Prediction: SPAM\n",
      "\n",
      "Tweet: \"Check out my new blog post on LangChain! It's super helpful: myblog.com/langchain-guide #AI #LangChain\"\n",
      "Prediction: NOT_SPAM\n"
     ]
    }
   ],
   "source": [
    "#  Define the Prompt Template (remains the same)\n",
    "prompt_template = PromptTemplate(\n",
    "    input_variables=[\"tweet_content\"],\n",
    "    template=\"\"\"You are an expert tweet spam detector. Your task is to analyze the following tweet and determine if it is SPAM or NOT_SPAM.\n",
    "A tweet is considered SPAM if it contains:\n",
    "- Excessive promotional content or unsolicited advertising.\n",
    "- Phishing links or attempts to steal personal information.\n",
    "- Impersonation or misleading claims.\n",
    "- Repetitive, generic messages sent to many users.\n",
    "- Requests for money or personal details in a suspicious manner.\n",
    "\n",
    "Classify the tweet as either 'SPAM' or 'NOT_SPAM'. Do not include any other text or explanation.\n",
    "\n",
    "Tweet: \"{tweet_content}\"\n",
    "Classification:\"\"\"\n",
    ")\n",
    "\n",
    "spam_detection_chain = LLMChain(llm=llm, prompt=prompt_template)\n",
    "\n",
    "print(\"--- Running Spam Detection Examples ---\")\n",
    "\n",
    "# Test 1: Likely Spam\n",
    "tweet_1 = \"💰 Earn $5000 in 2 days! Click this link now: bit.ly/freespins2025 #makemoney #crypto\"\n",
    "print(f\"\\nTweet: \\\"{tweet_1}\\\"\")\n",
    "prediction_1 = spam_detection_chain.run(tweet_1)\n",
    "print(f\"Prediction: {prediction_1.strip()}\")\n",
    "\n",
    "# Test 2: Not Spam\n",
    "tweet_2 = \"Just finished my morning coffee and starting to code! What are you working on today? #coding #developer\"\n",
    "print(f\"\\nTweet: \\\"{tweet_2}\\\"\")\n",
    "prediction_2 = spam_detection_chain.run(tweet_2)\n",
    "print(f\"Prediction: {prediction_2.strip()}\")\n",
    "\n",
    "# Test 3: Another Spam example\n",
    "tweet_3 = \"Congratulations! You've won a free iPhone! DM me your address to claim. Limited time offer! #giveaway\"\n",
    "print(f\"\\nTweet: \\\"{tweet_3}\\\"\")\n",
    "prediction_3 = spam_detection_chain.run(tweet_3)\n",
    "print(f\"Prediction: {prediction_3.strip()}\")\n",
    "\n",
    "# Test 4: Edge case / potentially borderline\n",
    "tweet_4 = \"Check out my new blog post on LangChain! It's super helpful: myblog.com/langchain-guide #AI #LangChain\"\n",
    "print(f\"\\nTweet: \\\"{tweet_4}\\\"\")\n",
    "prediction_4 = spam_detection_chain.run(tweet_4)\n",
    "print(f\"Prediction: {prediction_4.strip()}\")"
   ]
  },
  {
   "cell_type": "code",
   "execution_count": null,
   "id": "5ba98986",
   "metadata": {},
   "outputs": [],
   "source": []
  }
 ],
 "metadata": {
  "kernelspec": {
   "display_name": "base",
   "language": "python",
   "name": "python3"
  },
  "language_info": {
   "codemirror_mode": {
    "name": "ipython",
    "version": 3
   },
   "file_extension": ".py",
   "mimetype": "text/x-python",
   "name": "python",
   "nbconvert_exporter": "python",
   "pygments_lexer": "ipython3",
   "version": "3.12.7"
  }
 },
 "nbformat": 4,
 "nbformat_minor": 5
}
